{
  "nbformat": 4,
  "nbformat_minor": 0,
  "metadata": {
    "colab": {
      "name": "Annotate Your PDDL with WikiHow Mentions.ipynb",
      "provenance": [],
      "collapsed_sections": []
    },
    "kernelspec": {
      "name": "python3",
      "display_name": "Python 3"
    },
    "language_info": {
      "name": "python"
    }
  },
  "cells": [
    {
      "cell_type": "markdown",
      "source": [
        "# HW4 - Annotate Your PDDL with WikiHow Mentions\n",
        "\n",
        "In this part of the homework we will data about how the elements in your PDDL domain map onto the text of the wikiHow articles."
      ],
      "metadata": {
        "id": "htfn2mzDxSTG"
      }
    },
    {
      "cell_type": "markdown",
      "source": [
        "## Install the PDDL Parser"
      ],
      "metadata": {
        "id": "hNKlu5qzNUZ0"
      }
    },
    {
      "cell_type": "code",
      "source": [
        "# Install the PDDL parser\n",
        "!git clone https://github.com/pucrs-automated-planning/pddl-parser\n",
        "!cd pddl-parser\n",
        "\n",
        "# Make the directory available to Python so you can import packages from it.\n",
        "import sys\n",
        "sys.path.append(\"pddl-parser\")"
      ],
      "metadata": {
        "colab": {
          "base_uri": "https://localhost:8080/"
        },
        "id": "Pz3p4tK8ymBE",
        "outputId": "390e47e1-7589-4f10-e738-43168b2da9cc"
      },
      "execution_count": null,
      "outputs": [
        {
          "output_type": "stream",
          "name": "stdout",
          "text": [
            "fatal: destination path 'pddl-parser' already exists and is not an empty directory.\n"
          ]
        }
      ]
    },
    {
      "cell_type": "markdown",
      "source": [
        "### Helper functions"
      ],
      "metadata": {
        "id": "EGP5AoZ4e0AY"
      }
    },
    {
      "cell_type": "code",
      "source": [
        "import os\n",
        "import json\n",
        "import textwrap\n",
        "\n",
        "\n",
        "## Create a file from the contents of a string. \n",
        "def write_to_file(string, path, filename):\n",
        "  \"\"\"This is a helper function to create a file from a string.\"\"\"\n",
        "  if not os.path.exists(path) and path != \"\":\n",
        "    os.makedirs(path)\n",
        "  with open(os.path.join(path, filename), \"w\") as f:\n",
        "      f.write(string)\n",
        "\n",
        "\n",
        "# Load a JSON file given a filename\n",
        "# If the file doesn't exist, then return an empty dictionary instead\n",
        "def load_json(filename):\n",
        "    try:\n",
        "        with open(filename, 'r') as f:\n",
        "            return json.load(f)\n",
        "    except FileNotFoundError:\n",
        "        return {}\n",
        "\n",
        "# Save a JSON file given a full path filename and a dictionary\n",
        "# If the path doesn't exist, create the directories before saving the file.\n",
        "def save_json(filename, data):\n",
        "    if not os.path.exists(os.path.dirname(filename)):\n",
        "        os.makedirs(os.path.dirname(filename))\n",
        "    with open(filename, 'w') as f:\n",
        "        json.dump(data, f, indent=4)\n",
        "\n",
        "\n",
        "def wrap_text(text):\n",
        "  wrapped_text = \"\"\n",
        "  lines = text.strip().split(\"\\n\")\n",
        "\n",
        "  for line in lines:\n",
        "    if len(line) > 90:\n",
        "        w = textwrap.TextWrapper(width=90, break_long_words=False)\n",
        "        line = '\\n'.join(w.wrap(line))\n",
        "    wrapped_text += line + \"\\n\"\n",
        "  return wrapped_text"
      ],
      "metadata": {
        "id": "hT2jIguBys1p"
      },
      "execution_count": null,
      "outputs": []
    },
    {
      "cell_type": "markdown",
      "source": [
        "## TODO: Create Annotations for your Domain\n",
        "\n",
        "After you have finished creating your PDDL files, please use this notebook to annotate data and save a JSON file that links the phrases in the wikiHow article that you selected with the different elements of your PDDL elements.  \n",
        "\n",
        "If anyone is interested in doing a term project focused on automatically converting wikiHow to PDDL, then we'll share this JSON data with your classmates.\n"
      ],
      "metadata": {
        "id": "OXvSaTS5x8xv"
      }
    },
    {
      "cell_type": "markdown",
      "source": [
        "TODO: Update these varables, to specify your domain, and problem files, plus the path on your Google drive where they are stored. "
      ],
      "metadata": {
        "id": "Nkj4cUhhAewT"
      }
    },
    {
      "cell_type": "code",
      "source": [
        "# Mount your Google Drive so that you can save your PDDL files.\n",
        "from google.colab import drive\n",
        "drive.mount('/content/drive')\n",
        "path = '/content/drive/My Drive/CIS 700/HW4'\n",
        "\n",
        "domain_filename = \"domain-survive_in_the_woods.pddl\"\n",
        "problem_filenames = [ \"problem-collect_water.pddl\" ]"
      ],
      "metadata": {
        "id": "zaIyRWrVHKgx",
        "colab": {
          "base_uri": "https://localhost:8080/"
        },
        "outputId": "ddcd492b-19f2-41dc-d6c9-3ab92701e7e1"
      },
      "execution_count": null,
      "outputs": [
        {
          "output_type": "stream",
          "name": "stdout",
          "text": [
            "Drive already mounted at /content/drive; to attempt to forcibly remount, call drive.mount(\"/content/drive\", force_remount=True).\n"
          ]
        }
      ]
    },
    {
      "cell_type": "code",
      "source": [
        "from PDDL import PDDL_Parser\n",
        "\n",
        "def get_pddl_elements(domain_filename, problem_filenames, path):\n",
        "  \"\"\"\n",
        "  Parses the PDDL domain file and extracts the following information:\n",
        "  * The name of the domain\n",
        "  * A list of types used in the domain\n",
        "  * A list of action schemata names\n",
        "  * A list of the domain's predicates\n",
        "  Returns a tuple of all of these (all are strings).\n",
        "  \"\"\"\n",
        "  parser = PDDL_Parser()\n",
        "  parser.parse_domain(os.path.join(path, domain_filename))\n",
        "  parser.parse_problem(os.path.join(path, problem_filenames[0]))\n",
        "\n",
        "  domain_name = parser.domain_name\n",
        "  types = []\n",
        "  for ty in parser.types:\n",
        "    if not ty == \"object\":\n",
        "      types.append(ty)\n",
        "    types.extend(parser.types[ty])\n",
        "  actions = [action.name for action in parser.actions]\n",
        "  predicates = [predicate for predicate in parser.predicates] \n",
        "\n",
        "  return domain_name, types, actions, predicates\n",
        "\n",
        "def get_problem_names(domain_filename, problem_filenames, path):\n",
        "  \"\"\"\n",
        "  Parses your PDDL problem files and extracts the name for each problem.\n",
        "  Returns a list of problem names (strings).\n",
        "  \"\"\"\n",
        "  problem_names = []\n",
        "  for i in range(len(problem_filenames)):\n",
        "    parser = PDDL_Parser()\n",
        "    parser.parse_domain(os.path.join(path, domain_filename))\n",
        "    parser.parse_problem(os.path.join(path, problem_filenames[i]))\n",
        "    problem_names.append(parser.problem_name)\n",
        "  return problem_names\n",
        "\n",
        "\n",
        "domain_name, types, actions, predicates = get_pddl_elements(domain_filename, problem_filenames, path)\n",
        "problem_names = get_problem_names(domain_filename, problem_filenames, path)"
      ],
      "metadata": {
        "id": "WxC9rDh0GIkr"
      },
      "execution_count": null,
      "outputs": []
    },
    {
      "cell_type": "code",
      "source": [
        "def load_annotation_json(domain_filename, problem_filenames, path):\n",
        "\n",
        "  domain, types, actions, predicates = get_pddl_elements(domain_filename, problem_filenames, path)\n",
        "  problem_names = get_problem_names(domain_filename, problem_filenames, path)\n",
        "\n",
        "  json_filename = os.path.join(path, domain + \".json\")\n",
        "  data = load_json(json_filename)\n",
        "\n",
        "  if not domain in data:\n",
        "    data[domain] = {}\n",
        "  if not 'problems' in data[domain]:\n",
        "    data[domain]['problems'] = {}\n",
        "  # Ask the user for what wikiHow article they used.\n",
        "  if not 'wikihow_url' in data[domain]:\n",
        "    wikihow_url = input(\"What is URL of the wikiHow article you used to create the domain {domain}?\\n\".format(domain=domain.upper()))\n",
        "    wikihow_title = input(\"What is the title of the wikiHow article?\\n\")\n",
        "    data[domain]['wikihow_url'] = wikihow_url\n",
        "    data[domain]['wikihow_title'] = wikihow_title\n",
        "\n",
        "  if not 'permissions' in data:\n",
        "    data['permissions'] = {}\n",
        "    print(\"Would you be willing to share your PDDL and Annotations for research purposes under a Creative Commons CC-BY license?\\nhttps://creativecommons.org/about/cclicenses/\")\n",
        "    permissions = input()\n",
        "    print(\"If so, please type your name if you'd like to be attributed, or 'Anonymous' if you want to be Anonymous.\")\n",
        "    name = input()\n",
        "    data['permissions']['agreed_to_CC-BY'] = permissions\n",
        "    data['permissions']['name'] = name\n",
        "\n",
        "\n",
        "  # Update the eleents for the domain.\n",
        "  data[domain]['types'] = types\n",
        "  data[domain]['actions'] = actions\n",
        "  data[domain]['predicates'] = predicates\n",
        "\n",
        "  for problem in problem_names:\n",
        "    if not problem in data[domain]['problems']:\n",
        "      data[domain]['problems'][problem] = {}\n",
        "      # Get the step number in the wikiHow article for this problem\n",
        "      print(\"For the WikiHow article '{title}'\\n{url}\\n\".format\n",
        "            (title = data[domain]['wikihow_title'], url = data[domain]['wikihow_url']))\n",
        "      print(\"Tell us what part you used to create the problem {problem}\".format(problem = problem.upper()))\n",
        "      print(\"We'll ask for the part number, method number and step number from the article.\\n\")\n",
        "#      print(\"If the article isn't broken into PARTs or METHODs, you can just enter 1 for those questions.\\n\")\n",
        "\n",
        "      part_number = input(\"If the article has multiple PARTS, which PART did you use?\\n(Enter 0 if there are not multiple parts.)\\n\")\n",
        "      method_number = input(\"If the article has multiple METHODs, which METHOD did you use?\\n(Enter 0 if there are not multiple methods.)\\n\")\n",
        "      step_number = input(\"What STEP number did you use?\\n\")\n",
        "      print(\"Please copy-and-paste the step's CONTENT.\\nPress Ctrl-D (or Ctrl-Z on Windows) to save it.\")\n",
        "      step_contents = []\n",
        "      while True:\n",
        "        try:\n",
        "          line = input()\n",
        "        except EOFError:\n",
        "          break\n",
        "        step_contents.append(line)\n",
        "      \n",
        "      data[domain]['problems'][problem]['part_number'] = part_number\n",
        "      data[domain]['problems'][problem]['method_number'] = method_number\n",
        "      data[domain]['problems'][problem]['step_number'] = step_number\n",
        "      data[domain]['problems'][problem]['step_contents'] = \"\\n\".join(step_contents)\n",
        "  # Save the json file\n",
        "  save_json(json_filename, data)  \n",
        "  return json_filename\n",
        "\n",
        "json_filename = load_annotation_json(domain_filename, problem_filenames, path)\n",
        "  "
      ],
      "metadata": {
        "id": "TMvjdDxUHcTH",
        "colab": {
          "base_uri": "https://localhost:8080/"
        },
        "outputId": "03a83d3f-2bd3-4d19-da32-bbea024add1f"
      },
      "execution_count": null,
      "outputs": [
        {
          "name": "stdout",
          "output_type": "stream",
          "text": [
            "What is URL of the wikiHow article you used to create the domain SURVIVE_IN_THE_WOODS?\n",
            "https://www.wikihow.com/Survive-in-the-Woods\n",
            "What is the title of the wikiHow article?\n",
            "How to Survive in the Woods\n",
            "Would you be willing to share your PDDL and Annotations for research purposes under a Creative Commons CC-BY license?\n",
            "https://creativecommons.org/about/cclicenses/\n",
            "Yes\n",
            "If so, please type your name if you'd like to be attributed, or 'Anonymous' if you want to be Anonymous.\n",
            "Anonymous\n",
            "For the WikiHow article 'How to Survive in the Woods'\n",
            "https://www.wikihow.com/Survive-in-the-Woods\n",
            "\n",
            "Tell us what part you used to create the problem COLLECT_WATER\n",
            "We'll ask for the part number, method number and step number from the article.\n",
            "\n",
            "If the article has multiple PARTS, which PART did you use?\n",
            "(Enter 0 if there are not multiple parts.)\n",
            "1\n",
            "If the article has multiple METHODs, which METHOD did you use?\n",
            "(Enter 0 if there are not multiple methods.)\n",
            "1\n",
            "What STEP number did you use?\n",
            "1\n",
            "Please copy-and-paste the step's CONTENT.\n",
            "Press Ctrl-D (or Ctrl-Z on Windows) to save it.\n",
            "\u0004\n"
          ]
        }
      ]
    },
    {
      "cell_type": "code",
      "source": [
        "def annotate_mentions(json_filename):\n",
        "  \"\"\"\n",
        "  Walk through the json file and have the user copy-and-paste mentions for the \n",
        "  PDDL elements that are mentioned in the text of the wikihow article.  This\n",
        "  is useful for later projects that focus on automatically deriving PDDL from \n",
        "  text. \n",
        "  \"\"\"\n",
        "  data = load_json(json_filename)\n",
        "  for domain in data:\n",
        "    if 'problems' not in data[domain].keys():\n",
        "      continue\n",
        "    for problem in data[domain]['problems']:\n",
        "\n",
        "      print(\"Problem:\", problem.upper(), '\\n')\n",
        "      wrapped_text = wrap_text(data[domain]['problems'][problem]['step_contents'])\n",
        "      print(wrapped_text)\n",
        "      print('----\\n')\n",
        "\n",
        "      print(\"Please copy-and-paste phrases from the step that mention types, actions, and predicates from the PDDL.\")\n",
        "      print(\"A mention can be indirect. If there is more than one mention describing the same thing, then put one per line.\")\n",
        "      print(\"\\nEnter a blank line when you're done.\\n\")\n",
        "\n",
        "      for pddl_element in ['types', 'predicates', 'actions']:\n",
        "        if not 'mentions' in data[domain]['problems'][problem]:\n",
        "          data[domain]['problems'][problem]['mentions'] = {}\n",
        "        if not pddl_element in data[domain]['problems'][problem]['mentions']:\n",
        "          data[domain]['problems'][problem]['mentions'][pddl_element] = {}\n",
        "        for item in data[domain][pddl_element]:\n",
        "          if not item in data[domain]['problems'][problem]['mentions'][pddl_element]:\n",
        "            data[domain]['problems'][problem]['mentions'][pddl_element][item] = []\n",
        "          else:\n",
        "            #skip asking for annotation if we have already annotated this one.\n",
        "            pass\n",
        "          mentions = data[domain]['problems'][problem]['mentions'][pddl_element][item]\n",
        "\n",
        "          print(\"Mentions related to the\", pddl_element[:-1], item.upper())\n",
        "          if len(mentions) > 0:\n",
        "            print(\"So far you have entered:\")\n",
        "            print(\"\\n\".join(mentions))\n",
        "\n",
        "          while True:\n",
        "            mention = input()\n",
        "            if mention == \"\":\n",
        "              break\n",
        "            mentions.append(mention)\n",
        "            data[domain]['problems'][problem]['mentions'][pddl_element][item] = mentions\n",
        "            # Save the json file\n",
        "            save_json(json_filename, data)\n",
        "    save_json(json_filename, data)\n",
        "    print(\"\\nYou're done annotating!\".upper())\n",
        "    print(\"Your file has been saved as {filename}\".format(filename=json_filename))\n",
        "\n",
        "annotate_mentions(json_filename)"
      ],
      "metadata": {
        "id": "ptPogGxd6gkt",
        "colab": {
          "base_uri": "https://localhost:8080/"
        },
        "outputId": "58ea4ea4-ae4a-45f2-d78e-0a7bd97db32e"
      },
      "execution_count": null,
      "outputs": [
        {
          "output_type": "stream",
          "name": "stdout",
          "text": [
            "Problem: COLLECT_WATER \n",
            "\n",
            "\n",
            "\n",
            "----\n",
            "\n",
            "Please copy-and-paste phrases from the step that mention types, actions, and predicates from the PDDL.\n",
            "A mention can be indirect. If there is more than one mention describing the same thing, then put one per line.\n",
            "\n",
            "Enter a blank line when you're done.\n",
            "\n",
            "Mentions related to the type ITEM\n",
            "\n",
            "Mentions related to the type WATER\n",
            "\n",
            "Mentions related to the type PLAYER\n",
            "\n",
            "Mentions related to the type DIRECTION\n",
            "\n",
            "Mentions related to the type LOCATION\n",
            "\n",
            "Mentions related to the type CLOTH\n",
            "\n",
            "Mentions related to the type CONTAINER\n",
            "\n",
            "Mentions related to the type LONG_BRANCH\n",
            "\n",
            "Mentions related to the type PROPPED_BRANCHES\n",
            "\n",
            "Mentions related to the type LOGS\n",
            "\n",
            "Mentions related to the type TWIGS_LEAVES\n",
            "\n",
            "Mentions related to the type TEEPEE\n",
            "\n",
            "Mentions related to the predicate HAS_WATER_SOURCE\n",
            "this location has a source of fresh water\n",
            "\n",
            "Mentions related to the predicate HAS_BRANCHES\n",
            "this locations has a bunch of branches\n",
            "\n",
            "Mentions related to the predicate HAS_TWIGS_LEAVES\n",
            "this locations has a twigs and leaves\n",
            "\n",
            "Mentions related to the predicate HAS_LOGS\n",
            "this locations has a twigs and leaves\n",
            "this locations has logs\n",
            "\n",
            "Mentions related to the predicate HAS_SHELTER\n",
            "the player has built the shelter\n",
            "\n",
            "Mentions related to the predicate HAS_FIRE\n",
            "the player has started a fire\n",
            "\n",
            "Mentions related to the predicate STRAINED\n",
            "True if the water has been strained by using cloth\n",
            "\n",
            "Mentions related to the predicate TREATED\n",
            "True if the water has been decontaimated by boiling it\n",
            "\n",
            "Mentions related to the predicate AT\n",
            "an object is at a location \n",
            "\n",
            "Mentions related to the predicate INVENTORY\n",
            "an item is in the player's inventory\n",
            "\n",
            "Mentions related to the predicate CONNECTED\n",
            "location 1 is connected to location 2 in the direction\n",
            "\n",
            "Mentions related to the predicate BLOCKED\n",
            "the connection between location 1 and 2 in currently blocked\n",
            "\n",
            "Mentions related to the action GO\n",
            "navigate to an adjacent location\n",
            "\n",
            "Mentions related to the action GET\n",
            "pick up an item and put it in the inventory\n",
            "\n",
            "Mentions related to the action GET_WATER\n",
            "get water from a location that has a water source like a lake\n",
            "\n",
            "Mentions related to the action STRAIN_WATER\n",
            "strain water using cloth\n",
            "\n",
            "Mentions related to the action BOIL_WATER\n",
            "boil water using container\n",
            "\n",
            "Mentions related to the action PURIFY_IN_SUNLIGHT\n",
            "purify water in sunlight\n",
            "\n",
            "Mentions related to the action GET_LONG_BRANCH\n",
            "get long branch for shelter\n",
            "\n",
            "Mentions related to the action GET_PROPPED_BRANCHES\n",
            "get branches to prop up the main one\n",
            "\n",
            "Mentions related to the action GET_TWIGS_LEAVES\n",
            "get twigs and leaves\n",
            "\n",
            "Mentions related to the action BUILD_SHELTER\n",
            "built shelter\n",
            "\n",
            "Mentions related to the action GET_LOGS\n",
            "get logs\n",
            "\n",
            "Mentions related to the action GET_DRY_MATERIALS\n",
            "get dry materials\n",
            "\n",
            "Mentions related to the action BUILD_TEEPEE\n",
            "build teepee structure\n",
            "\n",
            "Mentions related to the action START_FIRE\n",
            "start_fire\n",
            "\n",
            "\n",
            "YOU'RE DONE ANNOTATING!\n",
            "Your file has been saved as /content/drive/My Drive/CIS 700/HW4/survive_in_the_woods.json\n"
          ]
        }
      ]
    }
  ]
}